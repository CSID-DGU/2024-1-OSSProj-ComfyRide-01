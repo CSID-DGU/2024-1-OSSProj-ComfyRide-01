{
 "cells": [
  {
   "cell_type": "code",
   "execution_count": 4,
   "metadata": {},
   "outputs": [],
   "source": [
    "import firebase_admin\n",
    "from firebase_admin import credentials, firestore\n",
    "\n",
    "# Firebase 인증 및 초기화\n",
    "cred = credentials.Certificate('ossproj-comfyride-firebase-adminsdk-f2uq6-b2aac3a165.json')\n",
    "firebase_admin.initialize_app(cred)\n",
    "\n",
    "db = firestore.client()"
   ]
  },
  {
   "cell_type": "code",
   "execution_count": null,
   "metadata": {},
   "outputs": [],
   "source": [
    "def fetch_data_from_firestore(collection_name):\n",
    "    collection_ref = db.collection(collection_name)\n",
    "    docs = collection_ref.stream()  # Stream을 사용하여 모든 문서 가져오기\n",
    "\n",
    "    for doc in docs:\n",
    "        print(f'{doc.id} => {doc.to_dict()}')\n",
    "\n",
    "# 사용 예제\n",
    "fetch_data_from_firestore('data_')"
   ]
  },
  {
   "cell_type": "code",
   "execution_count": 9,
   "metadata": {},
   "outputs": [],
   "source": [
    "import cv2\n",
    "import numpy as np\n",
    "\n",
    "def preprocess_image(image_path):\n",
    "    # 이미지 읽기\n",
    "    image = cv2.imread(image_path)\n",
    "    # 이미지 리사이징, 예를 들어 224x224 크기로 조정\n",
    "    image = cv2.resize(image, (224, 224))\n",
    "    # 이미지를 float32 자료형으로 변환하고 255로 나누어 정규화\n",
    "    image = image.astype(np.float32) / 255.0\n",
    "    return image\n"
   ]
  },
  {
   "cell_type": "code",
   "execution_count": null,
   "metadata": {},
   "outputs": [],
   "source": [
    "import tensorflow as tf\n",
    "\n",
    "def build_and_train_model(train_images, train_labels):\n",
    "    # 모델 구성\n",
    "    model = tf.keras.Sequential([\n",
    "        tf.keras.layers.Conv2D(32, (3, 3), activation='relu', input_shape=(224, 224, 3)),\n",
    "        tf.keras.layers.MaxPooling2D(2, 2),\n",
    "        tf.keras.layers.Conv2D(64, (3, 3), activation='relu'),\n",
    "        tf.keras.layers.MaxPooling2D(2, 2),\n",
    "        tf.keras.layers.Flatten(),\n",
    "        tf.keras.layers.Dense(128, activation='relu'),\n",
    "        tf.keras.layers.Dense(10, activation='softmax')  # 예를 들어 10개의 클래스가 있다고 가정\n",
    "    ])\n",
    "\n",
    "    # 모델 컴파일\n",
    "    model.compile(optimizer='adam',\n",
    "                  loss='sparse_categorical_crossentropy',\n",
    "                  metrics=['accuracy'])\n",
    "\n",
    "    # 모델 학습\n",
    "    model.fit(train_images, train_labels, epochs=10)\n",
    "\n",
    "    return model\n"
   ]
  }
 ],
 "metadata": {
  "kernelspec": {
   "display_name": "Python 3",
   "language": "python",
   "name": "python3"
  },
  "language_info": {
   "codemirror_mode": {
    "name": "ipython",
    "version": 3
   },
   "file_extension": ".py",
   "mimetype": "text/x-python",
   "name": "python",
   "nbconvert_exporter": "python",
   "pygments_lexer": "ipython3",
   "version": "3.11.1"
  }
 },
 "nbformat": 4,
 "nbformat_minor": 2
}
